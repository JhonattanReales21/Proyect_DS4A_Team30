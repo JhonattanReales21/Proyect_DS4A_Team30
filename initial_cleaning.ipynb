{
 "cells": [
  {
   "cell_type": "code",
   "execution_count": 50,
   "metadata": {},
   "outputs": [],
   "source": [
    "# Load packages\n",
    "import os\n",
    "import pandas as pd\n",
    "import numpy as np\n"
   ]
  },
  {
   "cell_type": "code",
   "execution_count": 51,
   "metadata": {},
   "outputs": [
    {
     "name": "stderr",
     "output_type": "stream",
     "text": [
      "C:\\Users\\MAURICIO MIRANDA\\anaconda3\\lib\\site-packages\\IPython\\core\\interactiveshell.py:3071: DtypeWarning: Columns (0) have mixed types.Specify dtype option on import or set low_memory=False.\n",
      "  has_raised = await self.run_ast_nodes(code_ast.body, cell_name,\n"
     ]
    }
   ],
   "source": [
    "df=pd.read_csv('data.csv',sep=';',\n",
    "        dtype = { # indicate categorical variables\n",
    "        'Tratamiento': 'category',\n",
    "        'Tratamiento de datos': 'category',\n",
    "        'Tipo Factura': 'category',\n",
    "        'Desc. Canal':'category',\n",
    "        'Cod. Tienda':'category',\n",
    "        'Ciudad Tienda':'category',\n",
    "        'Desc. Prenda': 'category',\n",
    "        'Tipo de Negocio': 'category',\n",
    "        'Destino': 'category',\n",
    "        'Edad': 'category',\n",
    "        'Género':'category',\n",
    "        'Sublínea':'category',\n",
    "        'Grupo de Artículo':'category',\n",
    "        'Tipo de Artículo':'category',\n",
    "        'Tipo de Tejido': 'category',\n",
    "        'Tipo de Referencia': 'category',\n",
    "        'País de Orígen': 'category',\n",
    "        'Saldo': 'category',\n",
    "        'Clase': 'category',\n",
    "        'Concepto Diseño': 'category',\n",
    "        'Mes de Venta':'category'\n",
    "    }\n",
    ")\n",
    "df['Fecha Factura']=pd.to_datetime(df['Fecha Factura'], format='%Y%m%d') "
   ]
  },
  {
   "cell_type": "code",
   "execution_count": 52,
   "metadata": {},
   "outputs": [],
   "source": [
    "df2=df.copy()\n"
   ]
  },
  {
   "cell_type": "code",
   "execution_count": 53,
   "metadata": {},
   "outputs": [],
   "source": [
    "#zona de reemplazamoento \n",
    "from unicodedata import normalize\n",
    "trans_tab = dict.fromkeys(map(ord, u'\\u0301\\u0308'), None)\n",
    "df2[\"Ciudad Tienda\"].replace({\"SAN ANDRÉS\": \"SAN ANDRES ISLAS\"},inplace=True)\n",
    "df2['Ciudad']=df2['Ciudad'].apply(lambda x:normalize('NFKC', normalize('NFKD', str(x)).translate(trans_tab)))\n",
    "df2[\"Ciudad\"].replace({\"ABEJORRAL - PO\": \"ABEJORRAL\",\"ACEVEDO - EL R\":\"ACEVEDO\",\"AGUA DE DIOS -\":\"AGUA DE DIOS\",\"AGUACHICA - PU\":\"AGUACHICA\",\"AGUSTIN CODAZZI - BECERRIL\":\"AGUSTIN CODAZZI\",\"AGUSTIN CODAZZ\":\"AGUSTIN CODAZZI\",\"ALBAN\":\"ALBANIA\",\"AMALFI - EL ZA\":\"AMALFI\",\"ARMENIA - EL S\":\"ARMENIA\",\"ARMERO (GUAYAB\":\"ARMERO\",\"ATLATICO\":\"ATLANTICO\"},inplace=True)"
   ]
  },
  {
   "cell_type": "code",
   "execution_count": 54,
   "metadata": {},
   "outputs": [],
   "source": [
    "#se eliminará aquellas cuyo valor neto sea menor o igual a cero \n",
    "df3=df2[df2['Valor Neto']>0]\n"
   ]
  },
  {
   "cell_type": "code",
   "execution_count": 55,
   "metadata": {},
   "outputs": [],
   "source": [
    "df3=df3.drop(['Direción','Colección','País de Orígen','Marca','Valor Matriz','Año de Venta','Tratamiento','Tratamiento de datos'],axis=1)"
   ]
  },
  {
   "cell_type": "code",
   "execution_count": 56,
   "metadata": {
    "scrolled": true
   },
   "outputs": [
    {
     "data": {
      "text/plain": [
       "(4656619, 31)"
      ]
     },
     "execution_count": 56,
     "metadata": {},
     "output_type": "execute_result"
    }
   ],
   "source": [
    "df3.shape # la base cuenta con 4656619"
   ]
  },
  {
   "cell_type": "code",
   "execution_count": 57,
   "metadata": {},
   "outputs": [],
   "source": [
    "#Dado que la proporción de Saldo, Grupo de Articulo, Mes de Venta, Tipo de Venta, genero, \n",
    "#es menor a 0.01$ realizaremos un reemplazamiento por el mas frecuente, la perdida de información sera minima\n",
    "df3['Grupo de Artículo'].cat.categories\n",
    "df3['Grupo de Artículo'].cat.codes\n",
    "articulo =df3['Grupo de Artículo'].cat.codes.replace(-1, np.nan)\n",
    "articulo = articulo.interpolate()\n",
    "articulo = articulo.astype(int).astype('category')\n",
    "articulo = articulo.cat.rename_categories(df3['Grupo de Artículo'].cat.categories)\n",
    "df3['Grupo de Artículo']=articulo\n"
   ]
  },
  {
   "cell_type": "code",
   "execution_count": 58,
   "metadata": {},
   "outputs": [],
   "source": [
    "#Dado que la proporción de Saldo, Grupo de Articulo, Mes de Venta, Tipo de Venta, genero, \n",
    "#es menor a 0.01$ realizaremos un reemplazamiento por el mas frecuente, la perdida de información sera minima\n",
    "df3['Saldo'].cat.categories\n",
    "df3['Saldo'].cat.codes\n",
    "saldo =df3['Saldo'].cat.codes.replace(-1, np.nan)\n",
    "saldo = saldo .interpolate()\n",
    "saldo = saldo .astype(int).astype('category')\n",
    "saldo = saldo .cat.rename_categories(df3['Saldo'].cat.categories)\n",
    "df3['Saldo']=saldo "
   ]
  },
  {
   "cell_type": "code",
   "execution_count": 59,
   "metadata": {},
   "outputs": [],
   "source": [
    "#Dado que la proporción de Saldo, Grupo de Articulo, Mes de Venta, Tipo de Venta, genero, \n",
    "#es menor a 0.01$ realizaremos un reemplazamiento por el mas frecuente, la perdida de información sera minima\n",
    "df3['Mes de Venta'].cat.categories\n",
    "df3['Mes de Venta'].cat.codes\n",
    "mes =df3['Mes de Venta'].cat.codes.replace(-1, np.nan)\n",
    "mes = mes.interpolate()\n",
    "mes = mes.astype(int).astype('category')\n",
    "mes = mes.cat.rename_categories(df3['Mes de Venta'].cat.categories)\n",
    "df3['Mes de Venta']=mes"
   ]
  },
  {
   "cell_type": "code",
   "execution_count": 60,
   "metadata": {},
   "outputs": [],
   "source": [
    "df3['Género'].cat.categories\n",
    "df3['Género'].cat.codes\n",
    "genero =df3['Género'].cat.codes.replace(-1, np.nan)\n",
    "genero= genero.interpolate()\n",
    "genero = genero.astype(int).astype('category')\n",
    "genero = genero.cat.rename_categories(df3['Género'].cat.categories)\n",
    "df3['Género']=genero"
   ]
  },
  {
   "cell_type": "code",
   "execution_count": 61,
   "metadata": {},
   "outputs": [],
   "source": [
    "df3['Edad'].cat.categories\n",
    "df3['Edad'].cat.codes\n",
    "edad =df3['Edad'].cat.codes.replace(-1, np.nan)\n",
    "edad = edad.interpolate()\n",
    "edad  = edad.astype(int).astype('category')\n",
    "edad = edad.cat.rename_categories(df3['Edad'].cat.categories)\n",
    "df3['Edad']=edad"
   ]
  },
  {
   "cell_type": "code",
   "execution_count": 62,
   "metadata": {},
   "outputs": [],
   "source": [
    "df3['Tipo de Negocio'].cat.categories\n",
    "df3['Tipo de Negocio'].cat.codes\n",
    "negocio =df3['Tipo de Negocio'].cat.codes.replace(-1, np.nan)\n",
    "negocio= negocio.interpolate()\n",
    "negocio= negocio.astype(int).astype('category')\n",
    "negocio= negocio.cat.rename_categories(df3['Tipo de Negocio'].cat.categories)\n",
    "df3['Tipo de Negocio']=negocio"
   ]
  },
  {
   "cell_type": "code",
   "execution_count": 63,
   "metadata": {},
   "outputs": [],
   "source": [
    "df3['Destino'].cat.categories\n",
    "df3['Destino'].cat.codes\n",
    "destino =df3['Destino'].cat.codes.replace(-1, np.nan)\n",
    "destino= destino.interpolate()\n",
    "destino= destino.astype(int).astype('category')\n",
    "destino= destino.cat.rename_categories(df3['Destino'].cat.categories)\n",
    "df3['Destino']=destino"
   ]
  },
  {
   "cell_type": "code",
   "execution_count": 64,
   "metadata": {},
   "outputs": [],
   "source": [
    "df3['Sublínea'].cat.categories\n",
    "df3['Sublínea'].cat.codes\n",
    "sublinea =df3['Sublínea'].cat.codes.replace(-1, np.nan)\n",
    "sublinea= sublinea.interpolate()\n",
    "sublinea= sublinea.astype(int).astype('category')\n",
    "sublinea= sublinea.cat.rename_categories(df3['Sublínea'].cat.categories)\n",
    "df3['Sublínea']=sublinea"
   ]
  },
  {
   "cell_type": "code",
   "execution_count": 65,
   "metadata": {},
   "outputs": [],
   "source": [
    "df3['Tipo de Artículo'].cat.categories\n",
    "df3['Tipo de Artículo'].cat.codes\n",
    "tipo=df3['Tipo de Artículo'].cat.codes.replace(-1, np.nan)\n",
    "tipo= tipo.interpolate()\n",
    "tipo= tipo.astype(int).astype('category')\n",
    "tipo= tipo.cat.rename_categories(df3['Tipo de Artículo'].cat.categories)\n",
    "df3['Tipo de Artículo']=tipo"
   ]
  },
  {
   "cell_type": "code",
   "execution_count": 66,
   "metadata": {},
   "outputs": [],
   "source": [
    "df3['Tipo de Referencia'].cat.categories\n",
    "df3['Tipo de Referencia'].cat.codes\n",
    "ref=df3['Tipo de Referencia'].cat.codes.replace(-1, np.nan)\n",
    "ref= ref.interpolate()\n",
    "ref= ref.astype(int).astype('category')\n",
    "ref= ref.cat.rename_categories(df3['Tipo de Referencia'].cat.categories)\n",
    "df3['Tipo de Referencia']=ref"
   ]
  },
  {
   "cell_type": "code",
   "execution_count": 67,
   "metadata": {},
   "outputs": [],
   "source": [
    "df3['Clase'].cat.categories\n",
    "df3['Clase'].cat.codes\n",
    "clase=df3['Clase'].cat.codes.replace(-1, np.nan)\n",
    "clase= clase.interpolate()\n",
    "clase= clase.astype(int).astype('category')\n",
    "clase= clase.cat.rename_categories(df3['Clase'].cat.categories)\n",
    "df3['Clase']=clase"
   ]
  },
  {
   "cell_type": "code",
   "execution_count": 68,
   "metadata": {},
   "outputs": [],
   "source": [
    "df3['Concepto Diseño'].cat.categories\n",
    "df3['Concepto Diseño'].cat.codes\n",
    "diseño=df3['Concepto Diseño'].cat.codes.replace(-1, np.nan)\n",
    "diseño= diseño.interpolate()\n",
    "diseño= diseño.astype(int).astype('category')\n",
    "diseño= diseño.cat.rename_categories(df3['Concepto Diseño'].cat.categories)\n",
    "df3['Concepto Diseño']=diseño"
   ]
  },
  {
   "cell_type": "code",
   "execution_count": 69,
   "metadata": {},
   "outputs": [],
   "source": [
    "df3['Ciudad Tienda']=df3['Ciudad Tienda'].astype('category')\n"
   ]
  },
  {
   "cell_type": "code",
   "execution_count": 70,
   "metadata": {},
   "outputs": [],
   "source": [
    "df3['Ciudad Tienda'].cat.categories\n",
    "df3['Ciudad Tienda'].cat.codes\n",
    "tida=df3['Ciudad Tienda'].cat.codes.replace(-1, np.nan)\n",
    "tida= tida.interpolate()\n",
    "tida= tida.astype(int).astype('category')\n",
    "tida= tida.cat.rename_categories(df3['Ciudad Tienda'].cat.categories)\n",
    "df3['Ciudad Tienda']=tida"
   ]
  },
  {
   "cell_type": "code",
   "execution_count": 71,
   "metadata": {},
   "outputs": [],
   "source": [
    "df3['Tipo de Tejido'].cat.categories\n",
    "df3['Tipo de Tejido'].cat.codes\n",
    "tejido=df3['Tipo de Tejido'].cat.codes.replace(-1, np.nan)\n",
    "tejido= tejido.interpolate()\n",
    "tejido= tejido.astype(int).astype('category')\n",
    "tejido= tejido.cat.rename_categories(df3['Tipo de Tejido'].cat.categories)\n",
    "df3['Tipo de Tejido']=tejido"
   ]
  },
  {
   "cell_type": "code",
   "execution_count": 72,
   "metadata": {},
   "outputs": [],
   "source": [
    "df4=df3[(df3['Edad']=='BEBES') |(df3['Edad']=='NIÑOS')| (df3['Edad']=='PRIMI')]"
   ]
  },
  {
   "cell_type": "code",
   "execution_count": 33,
   "metadata": {},
   "outputs": [
    {
     "name": "stdout",
     "output_type": "stream",
     "text": [
      "<class 'pandas.core.frame.DataFrame'>\n",
      "Int64Index: 4621542 entries, 0 to 4660922\n",
      "Data columns (total 33 columns):\n",
      " #   Column                Dtype         \n",
      "---  ------                -----         \n",
      " 0   ID_Contacto           object        \n",
      " 1   Codigo SAP            int64         \n",
      " 2   Nombre                object        \n",
      " 3   Apellido              object        \n",
      " 4   Tratamiento           category      \n",
      " 5   Tratamiento de datos  category      \n",
      " 6   Ciudad                object        \n",
      " 7   Fecha Factura         datetime64[ns]\n",
      " 8   Factura               int64         \n",
      " 9   Tipo Factura          category      \n",
      " 10  Cod. Organización     int64         \n",
      " 11  Desc. Organizacion    object        \n",
      " 12  Cod. Canal            int64         \n",
      " 13  Desc. Canal           category      \n",
      " 14  Valor Neto            int64         \n",
      " 15  Cod. Tienda           category      \n",
      " 16  Desc. Tienda          object        \n",
      " 17  Ciudad Tienda         category      \n",
      " 18  Material              int64         \n",
      " 19  Desc. Prenda          category      \n",
      " 20  Tipo de Negocio       category      \n",
      " 21  Destino               category      \n",
      " 22  Mes de Venta          category      \n",
      " 23  Edad                  category      \n",
      " 24  Género                category      \n",
      " 25  Sublínea              category      \n",
      " 26  Grupo de Artículo     category      \n",
      " 27  Tipo de Artículo      category      \n",
      " 28  Tipo de Tejido        category      \n",
      " 29  Tipo de Referencia    category      \n",
      " 30  Saldo                 category      \n",
      " 31  Clase                 category      \n",
      " 32  Concepto Diseño       category      \n",
      "dtypes: category(20), datetime64[ns](1), int64(6), object(6)\n",
      "memory usage: 595.2+ MB\n"
     ]
    }
   ],
   "source": [
    "df4.info()"
   ]
  },
  {
   "cell_type": "code",
   "execution_count": 73,
   "metadata": {},
   "outputs": [
    {
     "name": "stderr",
     "output_type": "stream",
     "text": [
      "<ipython-input-73-0037f03e0cc4>:1: SettingWithCopyWarning: \n",
      "A value is trying to be set on a copy of a slice from a DataFrame.\n",
      "Try using .loc[row_indexer,col_indexer] = value instead\n",
      "\n",
      "See the caveats in the documentation: https://pandas.pydata.org/pandas-docs/stable/user_guide/indexing.html#returning-a-view-versus-a-copy\n",
      "  df4['Mes de Venta']=pd.Categorical(df4['Mes de Venta'], categories=['ENERO','FEBRERO','MARZO','ABRIL','MAYO','JUNIO','JULIO','AGOSTO','SEPTIEMBRE','OCTUBRE','NOVIEMBRE','DICIEMBRE'],ordered=True)\n"
     ]
    }
   ],
   "source": [
    "df4['Mes de Venta']=pd.Categorical(df4['Mes de Venta'], categories=['ENERO','FEBRERO','MARZO','ABRIL','MAYO','JUNIO','JULIO','AGOSTO','SEPTIEMBRE','OCTUBRE','NOVIEMBRE','DICIEMBRE'],ordered=True)"
   ]
  },
  {
   "cell_type": "code",
   "execution_count": 74,
   "metadata": {},
   "outputs": [
    {
     "name": "stderr",
     "output_type": "stream",
     "text": [
      "C:\\Users\\MAURICIO MIRANDA\\anaconda3\\lib\\site-packages\\pandas\\core\\frame.py:4125: SettingWithCopyWarning: \n",
      "A value is trying to be set on a copy of a slice from a DataFrame\n",
      "\n",
      "See the caveats in the documentation: https://pandas.pydata.org/pandas-docs/stable/user_guide/indexing.html#returning-a-view-versus-a-copy\n",
      "  return super().rename(\n"
     ]
    }
   ],
   "source": [
    "df4.rename(columns={'Codigo SAP': 'Codigo_Cliente', 'Ciudad': 'Ciudad_cliente','Fecha Factura': 'Fecha_compra','Desc. Canal':'Canal'}, inplace=True)\n"
   ]
  },
  {
   "cell_type": "code",
   "execution_count": 75,
   "metadata": {},
   "outputs": [],
   "source": [
    "ruta =r\"C:\\Users\\MAURICIO MIRANDA\\Dropbox\\data_clean.csv\"\n",
    "ruta2=df4.to_csv(ruta)"
   ]
  },
  {
   "cell_type": "code",
   "execution_count": 82,
   "metadata": {},
   "outputs": [],
   "source": [
    "df5=df4.copy()"
   ]
  },
  {
   "cell_type": "code",
   "execution_count": null,
   "metadata": {},
   "outputs": [],
   "source": []
  }
 ],
 "metadata": {
  "kernelspec": {
   "display_name": "Python 3",
   "language": "python",
   "name": "python3"
  },
  "language_info": {
   "codemirror_mode": {
    "name": "ipython",
    "version": 3
   },
   "file_extension": ".py",
   "mimetype": "text/x-python",
   "name": "python",
   "nbconvert_exporter": "python",
   "pygments_lexer": "ipython3",
   "version": "3.8.3"
  }
 },
 "nbformat": 4,
 "nbformat_minor": 4
}
