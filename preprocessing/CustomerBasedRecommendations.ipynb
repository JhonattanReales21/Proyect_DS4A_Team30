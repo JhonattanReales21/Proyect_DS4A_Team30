{
 "cells": [
  {
   "cell_type": "code",
   "execution_count": 2,
   "metadata": {},
   "outputs": [],
   "source": [
    "import json\n",
    "import requests\n",
    "from bs4 import BeautifulSoup\n",
    "import pandas as pd\n",
    "import matplotlib.pyplot as plt\n",
    "import seaborn as sns\n",
    "import numpy\n",
    "import numpy as np\n",
    "#import plotly.express as px\n",
    "from sklearn.metrics.pairwise import cosine_similarity\n",
    "pd.set_option('display.max_columns', None)\n",
    "\n",
    "import time"
   ]
  },
  {
   "cell_type": "code",
   "execution_count": 3,
   "metadata": {},
   "outputs": [
    {
     "name": "stderr",
     "output_type": "stream",
     "text": [
      "/opt/conda/lib/python3.6/site-packages/IPython/core/interactiveshell.py:3020: DtypeWarning: Columns (32) have mixed types. Specify dtype option on import or set low_memory=False.\n",
      "  interactivity=interactivity, compiler=compiler, result=result)\n"
     ]
    }
   ],
   "source": [
    "df = pd.read_csv('../Data clean/data_clusters.csv', sep = ',', usecols = ['Codigo_Cliente','Fecha_compra','Factura','Ciudad Tienda','Desc. Tienda','Tipo de Artículo','ciudad','cluster'])"
   ]
  },
  {
   "cell_type": "code",
   "execution_count": null,
   "metadata": {},
   "outputs": [],
   "source": [
    "df.head(2)"
   ]
  },
  {
   "cell_type": "code",
   "execution_count": null,
   "metadata": {},
   "outputs": [],
   "source": [
    "#df_virtual = df[df['Desc. Tienda'].str.contains('VIRTUAL')]"
   ]
  },
  {
   "cell_type": "code",
   "execution_count": 4,
   "metadata": {},
   "outputs": [],
   "source": [
    "df_final = df[~df['Desc. Tienda'].str.contains('VIRTUAL')]\n",
    "del df\n",
    "#del df_virtual"
   ]
  },
  {
   "cell_type": "code",
   "execution_count": 5,
   "metadata": {},
   "outputs": [
    {
     "data": {
      "text/html": [
       "<div>\n",
       "<style scoped>\n",
       "    .dataframe tbody tr th:only-of-type {\n",
       "        vertical-align: middle;\n",
       "    }\n",
       "\n",
       "    .dataframe tbody tr th {\n",
       "        vertical-align: top;\n",
       "    }\n",
       "\n",
       "    .dataframe thead th {\n",
       "        text-align: right;\n",
       "    }\n",
       "</style>\n",
       "<table border=\"1\" class=\"dataframe\">\n",
       "  <thead>\n",
       "    <tr style=\"text-align: right;\">\n",
       "      <th></th>\n",
       "      <th>Codigo_Cliente</th>\n",
       "      <th>ciudad</th>\n",
       "      <th>cluster</th>\n",
       "    </tr>\n",
       "  </thead>\n",
       "  <tbody>\n",
       "    <tr>\n",
       "      <th>0</th>\n",
       "      <td>102510</td>\n",
       "      <td>AGUACHICA</td>\n",
       "      <td>100</td>\n",
       "    </tr>\n",
       "    <tr>\n",
       "      <th>1</th>\n",
       "      <td>115566</td>\n",
       "      <td>AGUACHICA</td>\n",
       "      <td>103</td>\n",
       "    </tr>\n",
       "  </tbody>\n",
       "</table>\n",
       "</div>"
      ],
      "text/plain": [
       "   Codigo_Cliente     ciudad  cluster\n",
       "0          102510  AGUACHICA      100\n",
       "1          115566  AGUACHICA      103"
      ]
     },
     "execution_count": 5,
     "metadata": {},
     "output_type": "execute_result"
    }
   ],
   "source": [
    "colk=[\"ciudad\",\"Codigo_Cliente\",\"cluster\"]\n",
    "dfk = pd.read_csv('../Data clean/clusters.csv', sep = ',', usecols=colk)\n",
    "dfk.head(2)"
   ]
  },
  {
   "cell_type": "markdown",
   "metadata": {},
   "source": [
    "**User Item Matrix**"
   ]
  },
  {
   "cell_type": "code",
   "execution_count": null,
   "metadata": {},
   "outputs": [],
   "source": [
    "def user_item_mat(df, city, k):    \n",
    "    df_city = df[df['Ciudad Tienda'] == city]\n",
    "    #k = 600\n",
    "    df_k = df_final[df_final['cluster']==k]\n",
    "    df_cli_art = df_k.groupby(['Codigo_Cliente','Tipo de Artículo'])['Factura'].count().reset_index().rename(columns = {'Factura':'Cantidad'})\n",
    "    df_cli_art['Comprado'] = df_cli_art['Cantidad']/df_cli_art['Cantidad']\n",
    "    df_cli_art['Comprado'] = df_cli_art['Comprado'].astype(int)\n",
    "    #customer_item_matrix = df_cli_art.pivot_table(index='Codigo_Cliente',\n",
    "    #                                          columns='Tipo de Artículo',\n",
    "    #                                          values='Comprado')\n",
    "    #                                          #aggfunc='sum')\n",
    "    #customer_item_matrix = customer_item_matrix.fillna(0)\n",
    "    df_cli_art = df_cli_art.fillna(0)\n",
    "    df_cli_art['ciudad'] = city\n",
    "    df_cli_art['cluster'] = k\n",
    "    return df_cli_art[['Codigo_Cliente','Tipo de Artículo','Comprado','ciudad','cluster']]"
   ]
  },
  {
   "cell_type": "code",
   "execution_count": null,
   "metadata": {},
   "outputs": [],
   "source": [
    "%%time\n",
    "#df_clusters = df_data_clusters[~df_data_clusters['Ciudad Tienda'].isin(['MEDELLIN','BOGOTÁ','LA CEJA'])]\n",
    "#ciudades_tiendas = df_clusters['Ciudad Tienda'].unique()\n",
    "ciudades_tiendas = dfk.ciudad.unique()\n",
    "#ciudades_tiendas = ['CARTAGENA']\n",
    "df_cli_art = pd.DataFrame(columns = ['Codigo_Cliente', 'Tipo de Artículo', 'Comprado', 'ciudad', 'cluster']) \n",
    "for city in ciudades_tiendas:\n",
    "    df_city = df_final[df_final['Ciudad Tienda'] == city]\n",
    "    clusters = df_city['cluster'].unique()\n",
    "    print(city, df_city.shape)\n",
    "    for k in clusters:\n",
    "        if df_city.shape[0] > 0:\n",
    "            df_cli_art = df_cli_art.append(user_item_mat(df_city, city, k))\n",
    "        else:\n",
    "            print(city, k)"
   ]
  },
  {
   "cell_type": "code",
   "execution_count": null,
   "metadata": {},
   "outputs": [],
   "source": [
    "df_cli_art.to_csv('cliente_articulo.csv')"
   ]
  },
  {
   "cell_type": "markdown",
   "metadata": {},
   "source": [
    "**Cosine Similarity**"
   ]
  },
  {
   "cell_type": "code",
   "execution_count": 6,
   "metadata": {},
   "outputs": [],
   "source": [
    "def sim_user_user_city(df, city, k):\n",
    "    df_city = df[df['Ciudad Tienda'] == city]\n",
    "    #k = 600\n",
    "    df_k = df_final[df_final['cluster']==k]\n",
    "    df_cli_art = df_k.groupby(['Codigo_Cliente','Tipo de Artículo'])['Factura'].count().reset_index().rename(columns = {'Factura':'Cantidad'})\n",
    "    df_cli_art['Comprado'] = df_cli_art['Cantidad']/df_cli_art['Cantidad']\n",
    "    df_cli_art['Comprado'] = df_cli_art['Comprado'].astype(int)\n",
    "    customer_item_matrix = df_cli_art.pivot_table(index='Codigo_Cliente',\n",
    "                                              columns='Tipo de Artículo',\n",
    "                                              values='Comprado')\n",
    "                                              #aggfunc='sum')\n",
    "    customer_item_matrix = customer_item_matrix.fillna(0)\n",
    "    \n",
    "    user_user_sim_matrix = pd.DataFrame(cosine_similarity(customer_item_matrix))\n",
    "    user_user_sim_matrix.columns = customer_item_matrix.index\n",
    "    user_user_sim_matrix['Codigo_Cliente'] = customer_item_matrix.index\n",
    "    user_user_sim_matrix = user_user_sim_matrix.set_index('Codigo_Cliente')\n",
    "    user_user_sim_matrix.index.name = 'codigo_cliente_1'\n",
    "    user_user_sim_matrix.columns.name = 'codigo_cliente_2'\n",
    "\n",
    "    user_user_unpivot = user_user_sim_matrix.unstack().reset_index(name='sim_value')\n",
    "    user_user_unpivot['ciudad'] = city\n",
    "    user_user_unpivot['cluster'] = k\n",
    "    return(user_user_unpivot)\n"
   ]
  },
  {
   "cell_type": "code",
   "execution_count": 7,
   "metadata": {},
   "outputs": [
    {
     "name": "stdout",
     "output_type": "stream",
     "text": [
      "BARRANQUILLA (73896, 8)\n",
      "CPU times: user 37.2 s, sys: 32.4 s, total: 1min 9s\n",
      "Wall time: 1min 7s\n"
     ]
    }
   ],
   "source": [
    "%%time\n",
    "#df_clusters = df_data_clusters[~df_data_clusters['Ciudad Tienda'].isin(['MEDELLIN','BOGOTÁ','LA CEJA'])]\n",
    "#ciudades_tiendas = df_clusters['Ciudad Tienda'].unique()\n",
    "#ciudades_tiendas = dfk.ciudad.unique()#['BARRANQUILLA','VALLEDUPAR']\n",
    "#ciudades_tiendas = ['VALLEDUPAR']\n",
    "ciudades_tiendas = ['BARRANQUILLA']\n",
    "recoms_user_user_ciudad = pd.DataFrame(columns = ['codigo_cliente_2', 'codigo_cliente_1', 'sim_value', 'ciudad', 'cluster']) \n",
    "for city in ciudades_tiendas:\n",
    "    df_city = df_final[df_final['Ciudad Tienda'] == city]\n",
    "    clusters = df_city['cluster'].unique()\n",
    "    print(city, df_city.shape)\n",
    "    for k in clusters:\n",
    "        if df_city.shape[0] > 0:\n",
    "            recoms_user_user_ciudad = recoms_user_user_ciudad.append(sim_user_user_city(df_city, city, k))\n",
    "        else:\n",
    "            print(city, k)"
   ]
  },
  {
   "cell_type": "code",
   "execution_count": 9,
   "metadata": {},
   "outputs": [
    {
     "data": {
      "text/plain": [
       "(88623419, 5)"
      ]
     },
     "execution_count": 9,
     "metadata": {},
     "output_type": "execute_result"
    }
   ],
   "source": [
    "recoms_user_user_ciudad.shape"
   ]
  },
  {
   "cell_type": "code",
   "execution_count": 11,
   "metadata": {},
   "outputs": [
    {
     "data": {
      "text/plain": [
       "14622864159"
      ]
     },
     "execution_count": 11,
     "metadata": {},
     "output_type": "execute_result"
    }
   ],
   "source": [
    "import sys\n",
    "sys.getsizeof(recoms_user_user_ciudad)"
   ]
  },
  {
   "cell_type": "code",
   "execution_count": 14,
   "metadata": {},
   "outputs": [
    {
     "data": {
      "text/plain": [
       "13945.449980735779"
      ]
     },
     "execution_count": 14,
     "metadata": {},
     "output_type": "execute_result"
    }
   ],
   "source": [
    "14622864159/(1024**2)"
   ]
  },
  {
   "cell_type": "code",
   "execution_count": null,
   "metadata": {},
   "outputs": [],
   "source": [
    "recoms_user_user_ciudad.cluster.unique()"
   ]
  },
  {
   "cell_type": "code",
   "execution_count": null,
   "metadata": {},
   "outputs": [],
   "source": [
    "df_final[df_final['Ciudad Tienda']=='VALLEDUPAR'].cluster.unique()"
   ]
  },
  {
   "cell_type": "code",
   "execution_count": null,
   "metadata": {},
   "outputs": [],
   "source": [
    "%%time\n",
    "#df_clusters = df_data_clusters[~df_data_clusters['Ciudad Tienda'].isin(['MEDELLIN','BOGOTÁ','LA CEJA'])]\n",
    "#ciudades_tiendas = df_clusters['Ciudad Tienda'].unique()\n",
    "ciudades_tiendas = dfk.ciudad.unique()#['BARRANQUILLA','VALLEDUPAR']\n",
    "recoms_art_art_ciudad = pd.DataFrame(columns = ['tipo_articulo_2', 'tipo_articulo_1', 'sim_value', 'ciudad', 'cluster']) \n",
    "for city in ciudades_tiendas:\n",
    "    df_city = df_data_clusters[df_data_clusters['Ciudad Tienda'] == city]\n",
    "    clusters = df_city['cluster'].unique()\n",
    "    print(city, df_city.shape)\n",
    "    for k in clusters:\n",
    "        if df_city.shape[0] > 0:\n",
    "            recoms_art_art_ciudad = recoms_art_art_ciudad.append(sim_item_item_city(df_city, city, k))\n",
    "        else:\n",
    "            print(city, k)"
   ]
  },
  {
   "cell_type": "code",
   "execution_count": null,
   "metadata": {},
   "outputs": [],
   "source": [
    "def user_based_recoms (user, n_recoms, variab):\n",
    "    #user = 102514\n",
    "    most_sim_user = user_user_sim_matrix.loc[user].sort_values(ascending=False).reset_index().Codigo_Cliente[1:51]\n",
    "\n",
    "    items_bought_by_A = pd.DataFrame(customer_item_matrix.loc[user].iloc[customer_item_matrix.loc[user].nonzero()].index)\n",
    "\n",
    "    items_bought_by_sim_users = pd.DataFrame(customer_item_matrix.loc[most_sim_user[1]].iloc[customer_item_matrix.loc[most_sim_user[1]].nonzero()].index)\n",
    "    for us in most_sim_user[1:]:\n",
    "        items_bought_by_sim_users = items_bought_by_sim_users.merge(pd.DataFrame(customer_item_matrix.loc[us].iloc[customer_item_matrix.loc[us].nonzero()].index), how = 'outer')\n",
    "\n",
    "    items_to_recommend_to_A = items_bought_by_sim_users[~items_bought_by_sim_users['Tipo de Artículo']\\\n",
    "                                                        .isin(items_bought_by_A['Tipo de Artículo'])]\\\n",
    "                                .reset_index(drop = True)[0:n_recoms]\n",
    "    print('Recomendados para el cliente',user,'en',variab)\n",
    "    return(items_to_recommend_to_A)\n",
    "    "
   ]
  }
 ],
 "metadata": {
  "kernelspec": {
   "display_name": "Python 3",
   "language": "python",
   "name": "python3"
  },
  "language_info": {
   "codemirror_mode": {
    "name": "ipython",
    "version": 3
   },
   "file_extension": ".py",
   "mimetype": "text/x-python",
   "name": "python",
   "nbconvert_exporter": "python",
   "pygments_lexer": "ipython3",
   "version": "3.6.7"
  }
 },
 "nbformat": 4,
 "nbformat_minor": 2
}
